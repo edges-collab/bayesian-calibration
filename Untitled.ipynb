{
 "cells": [
  {
   "cell_type": "code",
   "execution_count": 1,
   "id": "be6cfadc-175d-4930-96e4-436eea5e71d8",
   "metadata": {},
   "outputs": [],
   "source": [
    "import  run_alan_data_isolated_mcmc as mcmc\n",
    "import mcmc_utils as mutl\n",
    "import alan_data_utils as utils\n",
    "import alan_data as adata\n",
    "from edges_cal.modelling import LinLog\n",
    "from yabf import run_map\n",
    "import matplotlib.pyplot as plt\n",
    "from edges_estimate .fitting import SemiLinearFit\n",
    "import astropy.units as u\n",
    "import numpy as np\n",
    "import run_mcmc_utils as run\n",
    "import run_alan_cal_mcmc as cal\n",
    "\n",
    "%matplotlib inline"
   ]
  },
  {
   "cell_type": "code",
   "execution_count": 2,
   "id": "624ef433-e853-432c-802b-c96b28087a1b",
   "metadata": {},
   "outputs": [],
   "source": [
    "calobs32 = utils.get_calobs(smooth=32)\n",
    "labcal32 = utils.get_labcal(calobs32)"
   ]
  },
  {
   "cell_type": "code",
   "execution_count": 3,
   "id": "bd7d8c96-00ac-41d2-8a6f-09441d61b2de",
   "metadata": {},
   "outputs": [],
   "source": [
    "isolated = mutl.get_completed_mcsamples('alan_field_isolated', include_incomplete=True)"
   ]
  },
  {
   "cell_type": "code",
   "execution_count": 4,
   "id": "6b50ad4e-01dc-456b-8177-518edac859a6",
   "metadata": {},
   "outputs": [
    {
     "data": {
      "text/plain": [
       "dict_keys(['c06_w05_smooth32_fg10_taufxFalse', 'c06_w05_smooth32_fg4_taufxFalse', 'c06_w05_smooth32_fg5_taufxFalse', 'c06_w05_smooth32_fg6_taufxFalse', 'c06_w05_smooth32_fg7_taufxFalse', 'c06_w05_smooth32_fg8_taufxFalse', 'c06_w05_smooth32_fg9_taufxFalse'])"
      ]
     },
     "execution_count": 4,
     "metadata": {},
     "output_type": "execute_result"
    }
   ],
   "source": [
    "isolated.keys()"
   ]
  },
  {
   "cell_type": "code",
   "execution_count": 5,
   "id": "322eb080-6e5c-42d8-bdea-80e604006bd5",
   "metadata": {},
   "outputs": [],
   "source": [
    "lk = mcmc.mcdef.get_likelihood_from_label(\"c06_w05_smooth32_fg5_taufxFalse\")"
   ]
  },
  {
   "cell_type": "code",
   "execution_count": 6,
   "id": "ee2f6ba4-a0f7-4854-8b16-ac7cceae74af",
   "metadata": {},
   "outputs": [],
   "source": [
    "eor = utils.make_absorption(adata.sky_data['freq'])"
   ]
  },
  {
   "cell_type": "code",
   "execution_count": 7,
   "id": "bfc356ce-1f06-4f3f-84e4-69ef8487a590",
   "metadata": {},
   "outputs": [],
   "source": [
    "lknew = utils.get_isolated_likelihood(\n",
    "    labcal32, \n",
    "    calobs32,\n",
    "    fsky=adata.sky_data['freq'],\n",
    "    fg=LinLog(n_terms=5), \n",
    "    eor=eor,\n",
    "    ml_solution='outputs/alan_cal/c06_w05_cf06_wf05_smooth32_tns0500_ign[()]_sim[(\\'open\\', \\'short\\')]_s11()_antsim-False/bayescal.map',\n",
    "    mcdef=cal.mcdef\n",
    ")"
   ]
  },
  {
   "cell_type": "code",
   "execution_count": 8,
   "id": "9aafc9b4-7b01-440e-a90f-26b3eb4bcdc0",
   "metadata": {},
   "outputs": [
    {
     "data": {
      "text/plain": [
       "                        fun: 178.40625788418566\n",
       " lowest_optimization_result:       fun: 178.40625788418566\n",
       " hess_inv: <4x4 LbfgsInvHessProduct with dtype=float64>\n",
       "      jac: array([-0.0017593 ,  0.00707701, -0.01494413,  0.04232845])\n",
       "  message: 'CONVERGENCE: REL_REDUCTION_OF_F_<=_FACTR*EPSMCH'\n",
       "     nfev: 165\n",
       "      nit: 21\n",
       "     njev: 33\n",
       "   status: 0\n",
       "  success: True\n",
       "        x: array([ 0.68585632, 78.35161598,  4.66209964, 18.80235687])\n",
       "                    message: ['requested number of basinhopping iterations completed successfully']\n",
       "      minimization_failures: 3\n",
       "                       nfev: 52310\n",
       "                        nit: 300\n",
       "                       njev: 10462\n",
       "                    success: True\n",
       "                          x: array([ 0.68585632, 78.35161598,  4.66209964, 18.80235687])"
      ]
     },
     "execution_count": 8,
     "metadata": {},
     "output_type": "execute_result"
    }
   ],
   "source": [
    "run_map(lknew.partial_linear_model, basinhopping_kw={\"niter\": 300})"
   ]
  },
  {
   "cell_type": "code",
   "execution_count": 6,
   "id": "2006dd44-00db-4d45-9a70-e74243e3eb6e",
   "metadata": {},
   "outputs": [],
   "source": []
  },
  {
   "cell_type": "code",
   "execution_count": 9,
   "id": "b65dfbe8-6909-4d6b-ad57-846c0bbcba90",
   "metadata": {},
   "outputs": [
    {
     "data": {
      "text/plain": [
       "Param(name='tau', _min=1, _max=40, prior=<scipy.stats._distn_infrastructure.rv_frozen object at 0x7f9f3c8fb7f0>, fiducial=7.0, latex='tau', ref=<scipy.stats._distn_infrastructure.rv_frozen object at 0x7f9f3c8fb7f0>, determines=('tau',), transforms=(None,))"
      ]
     },
     "execution_count": 9,
     "metadata": {},
     "output_type": "execute_result"
    }
   ],
   "source": [
    "eor.params.tau"
   ]
  },
  {
   "cell_type": "code",
   "execution_count": 10,
   "id": "dd9eaf0d-0192-47c4-8026-c2d2d9e6b6c0",
   "metadata": {},
   "outputs": [],
   "source": [
    "lk5 = utils.get_isolated_likelihood(\n",
    "    labcal32, \n",
    "    calobs32,\n",
    "    fsky=adata.sky_data['freq'],\n",
    "    fg=LinLog(n_terms=5), \n",
    "    eor=eor,\n",
    ")"
   ]
  },
  {
   "cell_type": "code",
   "execution_count": 5,
   "id": "919aa78a-0907-4d41-9a3d-759c2e9b08ad",
   "metadata": {},
   "outputs": [
    {
     "data": {
      "text/plain": [
       "-1075.4662131117088"
      ]
     },
     "execution_count": 5,
     "metadata": {},
     "output_type": "execute_result"
    }
   ],
   "source": [
    "lk.partial_linear_model.logp(params=[ 0.62033368, 78.10724806,  5.7532107 , 18.95317791])"
   ]
  },
  {
   "cell_type": "code",
   "execution_count": 8,
   "id": "66c15028-f542-4dc1-9034-6af7fcb77a5b",
   "metadata": {},
   "outputs": [
    {
     "data": {
      "text/plain": [
       "-208.144254"
      ]
     },
     "execution_count": 8,
     "metadata": {},
     "output_type": "execute_result"
    }
   ],
   "source": [
    "-isolated['c06_w05_smooth32_fg5_taufxFalse'].loglikes.min()/2"
   ]
  },
  {
   "cell_type": "code",
   "execution_count": 11,
   "id": "ef09c55e-26af-433a-8077-26b8ea34cab5",
   "metadata": {},
   "outputs": [],
   "source": [
    "res5 = run_map(lk5.partial_linear_model, basinhopping_kw={'niter': 300})"
   ]
  },
  {
   "cell_type": "code",
   "execution_count": 10,
   "id": "2cbe3929-7cac-47d8-9ec6-2641ca709a2b",
   "metadata": {},
   "outputs": [],
   "source": [
    "res = run_map(lk.partial_linear_model, basinhopping_kw={\"niter\": 300})"
   ]
  },
  {
   "cell_type": "code",
   "execution_count": 12,
   "id": "65b83a60-d75d-42ea-a443-5093854ea0cd",
   "metadata": {},
   "outputs": [
    {
     "data": {
      "text/plain": [
       "                        fun: 219.3026299765318\n",
       " lowest_optimization_result:       fun: 219.3026299765318\n",
       " hess_inv: <4x4 LbfgsInvHessProduct with dtype=float64>\n",
       "      jac: array([ 0.04088747, -0.04196752, -0.03086313, -0.02432045])\n",
       "  message: 'CONVERGENCE: REL_REDUCTION_OF_F_<=_FACTR*EPSMCH'\n",
       "     nfev: 130\n",
       "      nit: 14\n",
       "     njev: 26\n",
       "   status: 0\n",
       "  success: True\n",
       "        x: array([ 0.22991927, 78.28002718, 37.6087762 , 18.68642149])\n",
       "                    message: ['requested number of basinhopping iterations completed successfully']\n",
       "      minimization_failures: 5\n",
       "                       nfev: 44460\n",
       "                        nit: 300\n",
       "                       njev: 8892\n",
       "                    success: True\n",
       "                          x: array([ 0.22991927, 78.28002718, 37.6087762 , 18.68642149])"
      ]
     },
     "execution_count": 12,
     "metadata": {},
     "output_type": "execute_result"
    }
   ],
   "source": [
    "res5"
   ]
  },
  {
   "cell_type": "code",
   "execution_count": 13,
   "id": "2e6a9bd5-e242-443d-937a-2d60e4629024",
   "metadata": {},
   "outputs": [
    {
     "data": {
      "text/plain": [
       "(-222.64337410980858, [])"
      ]
     },
     "execution_count": 13,
     "metadata": {},
     "output_type": "execute_result"
    }
   ],
   "source": [
    "lk.partial_linear_model([ 0.24540218, 78.27164618, 19.99999998, 18.83610354])"
   ]
  },
  {
   "cell_type": "code",
   "execution_count": 14,
   "id": "ff0f5c97-3736-42ed-9437-3eafcd095eb8",
   "metadata": {},
   "outputs": [],
   "source": [
    "ctx = lk.partial_linear_model.get_ctx(params=[ 0.24540218, 78.27164618, 19.99999998, 18.83610354])"
   ]
  },
  {
   "cell_type": "code",
   "execution_count": 16,
   "id": "196c81ca-dfc5-4201-9a00-21bcac5d91b6",
   "metadata": {},
   "outputs": [],
   "source": [
    "model = lk.partial_linear_model.reduce_model(ctx=ctx)"
   ]
  },
  {
   "cell_type": "code",
   "execution_count": 17,
   "id": "27d8dcff-bfed-48f3-9ab3-3be6f648bbd2",
   "metadata": {},
   "outputs": [],
   "source": [
    "logdetSig = lk.partial_linear_model.logdet_sig(model, None)\n",
    "logdetCinv = lk.partial_linear_model.logdet_cinv(model, None)\n",
    "rms = lk.partial_linear_model.rms(model, None)"
   ]
  },
  {
   "cell_type": "code",
   "execution_count": 18,
   "id": "737ac87d-248f-48c6-8c96-89cd16a0f490",
   "metadata": {},
   "outputs": [
    {
     "data": {
      "text/plain": [
       "(0, 32.12783759640724, 391.3376261617791)"
      ]
     },
     "execution_count": 18,
     "metadata": {},
     "output_type": "execute_result"
    }
   ],
   "source": [
    "logdetSig, logdetCinv, rms"
   ]
  },
  {
   "cell_type": "code",
   "execution_count": 20,
   "id": "0c0026f8-2fc9-448a-9df4-47ed1c7f1098",
   "metadata": {},
   "outputs": [
    {
     "name": "stdout",
     "output_type": "stream",
     "text": [
      "0 32.12783759640724 2005.4558791364645\n"
     ]
    }
   ],
   "source": [
    "ctx2 = lk.partial_linear_model.get_ctx(params=[ 0.60931221, 78.2990475 ,  5.32130938, 18.76250956])\n",
    "model2 = lk.partial_linear_model.reduce_model(ctx=ctx2)\n",
    "print(\n",
    "    lk.partial_linear_model.logdet_sig(model2, None),\n",
    "    lk.partial_linear_model.logdet_cinv(model2, None),\n",
    "    lk.partial_linear_model.rms(model2, None)\n",
    ")"
   ]
  },
  {
   "cell_type": "code",
   "execution_count": 21,
   "id": "6d8057bd-01fb-41f2-b552-405c9f8aadae",
   "metadata": {},
   "outputs": [],
   "source": [
    "fit, data, var = model"
   ]
  },
  {
   "cell_type": "code",
   "execution_count": 22,
   "id": "28250c54-cdb4-439c-b33a-2ad06c3cfc89",
   "metadata": {},
   "outputs": [],
   "source": [
    "fit2, data2, var2 = model2"
   ]
  },
  {
   "cell_type": "code",
   "execution_count": 29,
   "id": "431a6cf0-20a6-464c-a381-c975db0fc48e",
   "metadata": {},
   "outputs": [
    {
     "data": {
      "text/plain": [
       "[<matplotlib.lines.Line2D at 0x7f9ef2529b50>]"
      ]
     },
     "execution_count": 29,
     "metadata": {},
     "output_type": "execute_result"
    },
    {
     "data": {
      "image/png": "[encoded data removed]",
      "text/plain": [
       "<Figure size 432x288 with 1 Axes>"
      ]
     },
     "metadata": {
      "needs_background": "light"
     },
     "output_type": "display_data"
    }
   ],
   "source": [
    "plt.plot(fit.residual)\n",
    "plt.plot(fit2.residual)\n"
   ]
  },
  {
   "cell_type": "code",
   "execution_count": 38,
   "id": "d76b24ac-c08a-434c-a9f9-4ba43b67e4e2",
   "metadata": {},
   "outputs": [],
   "source": [
    "linlog = LinLog(n_terms=5)\n",
    "recal_tsky = utils.recalibrate(labcal32, t_sky=adata.sky_data[\"t_ant\"], f_sky=adata.sky_freq) \n",
    "tns = calobs32.C1(adata.sky_freq*u.MHz) * 1000\n",
    "variance = var#lk.partial_linear_model.data['data_variance']['ant'] * tns**2\n",
    "slf = SemiLinearFit(\n",
    "    fg=linlog.at(x=adata.sky_freq), \n",
    "    eor=utils.make_absorption(adata.sky_freq),\n",
    "    spectrum=recal_tsky, \n",
    "    sigma=np.sqrt(variance)\n",
    ")"
   ]
  },
  {
   "cell_type": "code",
   "execution_count": 39,
   "id": "2a33cdc4-c4ff-4823-8f93-1c0a6f150f14",
   "metadata": {},
   "outputs": [
    {
     "data": {
      "text/plain": [
       "array([-0.23611476, -0.22947713, -0.2191127 , -0.20565329, -0.18968941,\n",
       "       -0.17173948, -0.15227495, -0.13172697, -0.11047876, -0.08886668,\n",
       "       -0.06720055, -0.0457443 , -0.02473311, -0.00437355,  0.01515888,\n",
       "        0.03371306,  0.05116302,  0.06740476,  0.08235472,  0.09594703,\n",
       "        0.10813541,  0.11888758,  0.12818455,  0.13602532,  0.14241619,\n",
       "        0.14737584,  0.15093219,  0.15312152,  0.15398898,  0.15359154,\n",
       "        0.15198231,  0.14922118,  0.14538203,  0.14052998,  0.13474245,\n",
       "        0.12809473,  0.12066598,  0.11253616,  0.10378215,  0.09448752,\n",
       "        0.08473409,  0.07459958,  0.06416311,  0.05350288,  0.04269391,\n",
       "        0.03181   ,  0.02092391,  0.0101037 , -0.000584  , -0.01107668,\n",
       "       -0.02131382, -0.03123862, -0.04079806, -0.04994271, -0.05862634,\n",
       "       -0.06680726, -0.0744483 , -0.08151138, -0.08796855, -0.09379403,\n",
       "       -0.09896396, -0.10346315, -0.10727468, -0.11038727, -0.11279593,\n",
       "       -0.11449908, -0.1154974 , -0.11579574, -0.11540023, -0.11432552,\n",
       "       -0.11258614, -0.11020249, -0.10719455, -0.10359016, -0.09941562,\n",
       "       -0.09469907, -0.08947839, -0.08378346, -0.07765757, -0.07114163,\n",
       "       -0.06427315, -0.05710052, -0.04966784, -0.04202299, -0.03421487,\n",
       "       -0.02629385, -0.01831189, -0.01032065, -0.00237375,  0.00547488,\n",
       "        0.01317004,  0.02065619,  0.02787721,  0.03477711,  0.04129804,\n",
       "        0.04738302,  0.05297943,  0.05802752,  0.06246786,  0.06624472,\n",
       "        0.06930131,  0.07158229,  0.0730299 ,  0.07359551,  0.07321596,\n",
       "        0.07183111,  0.06939175,  0.06584236,  0.06111827,  0.05517447,\n",
       "        0.04795829,  0.03940129,  0.02946066,  0.01807719,  0.00519823,\n",
       "       -0.00923372, -0.02527193, -0.04296433])"
      ]
     },
     "execution_count": 39,
     "metadata": {},
     "output_type": "execute_result"
    }
   ],
   "source": [
    "slf.spectrum - lk.partial_linear_model.data['t_sky']"
   ]
  },
  {
   "cell_type": "code",
   "execution_count": 11,
   "id": "bb35f80b-a6f0-43e0-92e3-6e099403bbd2",
   "metadata": {},
   "outputs": [
    {
     "data": {
      "text/plain": [
       "                        fun: 286.05908850754207\n",
       " lowest_optimization_result:       fun: 286.05908850754207\n",
       " hess_inv: <3x3 LbfgsInvHessProduct with dtype=float64>\n",
       "      jac: array([ 0.04254161,  0.02813183, -0.02812044])\n",
       "  message: 'CONVERGENCE: REL_REDUCTION_OF_F_<=_FACTR*EPSMCH'\n",
       "     nfev: 200\n",
       "      nit: 13\n",
       "     njev: 50\n",
       "   status: 0\n",
       "  success: True\n",
       "        x: array([ 0.31853208, 78.3134529 , 19.48666898])\n",
       "                    message: ['requested number of basinhopping iterations completed successfully']\n",
       "      minimization_failures: 6\n",
       "                       nfev: 33704\n",
       "                        nit: 300\n",
       "                       njev: 8426\n",
       "                    success: True\n",
       "                          x: array([ 0.31853208, 78.3134529 , 19.48666898])"
      ]
     },
     "execution_count": 11,
     "metadata": {},
     "output_type": "execute_result"
    }
   ],
   "source": [
    "res5"
   ]
  },
  {
   "cell_type": "code",
   "execution_count": 11,
   "id": "6191a66f-274d-4c86-a42c-96703ce6f87a",
   "metadata": {},
   "outputs": [
    {
     "data": {
      "text/plain": [
       "                        fun: 221.92425144379595\n",
       " lowest_optimization_result:       fun: 221.92425144379595\n",
       " hess_inv: <4x4 LbfgsInvHessProduct with dtype=float64>\n",
       "      jac: array([-0.06761809, -0.0429026 , -0.61208704,  0.04908997])\n",
       "  message: 'CONVERGENCE: REL_REDUCTION_OF_F_<=_FACTR*EPSMCH'\n",
       "     nfev: 165\n",
       "      nit: 18\n",
       "     njev: 33\n",
       "   status: 0\n",
       "  success: True\n",
       "        x: array([ 0.24540218, 78.27164618, 19.99999998, 18.83610354])\n",
       "                    message: ['requested number of basinhopping iterations completed successfully']\n",
       "      minimization_failures: 3\n",
       "                       nfev: 54335\n",
       "                        nit: 300\n",
       "                       njev: 10867\n",
       "                    success: True\n",
       "                          x: array([ 0.24540218, 78.27164618, 19.99999998, 18.83610354])"
      ]
     },
     "execution_count": 11,
     "metadata": {},
     "output_type": "execute_result"
    }
   ],
   "source": [
    "res"
   ]
  },
  {
   "cell_type": "code",
   "execution_count": null,
   "id": "1584a878-b514-4b64-91b1-943e9309e378",
   "metadata": {},
   "outputs": [],
   "source": [
    "lk.partial_linear_model.logp(params=[ 0.62033368, 78.10724806,  5.7532107 , 18.95317791])"
   ]
  }
 ],
 "metadata": {
  "kernelspec": {
   "display_name": "edges",
   "language": "python",
   "name": "edges"
  },
  "language_info": {
   "codemirror_mode": {
    "name": "ipython",
    "version": 3
   },
   "file_extension": ".py",
   "mimetype": "text/x-python",
   "name": "python",
   "nbconvert_exporter": "python",
   "pygments_lexer": "ipython3",
   "version": "3.9.5"
  }
 },
 "nbformat": 4,
 "nbformat_minor": 5
}
