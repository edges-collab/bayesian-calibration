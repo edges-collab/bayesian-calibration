{
 "cells": [
  {
   "cell_type": "markdown",
   "id": "97bdba88-9dd9-489b-933c-62bf8659113a",
   "metadata": {},
   "source": [
    "# Alan Precal"
   ]
  },
  {
   "cell_type": "markdown",
   "id": "fbd49b43-fe82-4f6a-aebb-e42bd06e8122",
   "metadata": {},
   "source": [
    "By \"precal\" we mean, for the default number of calibration terms (6, 5), figuring out the best S11 bias models that retrieve similar parameters to B18."
   ]
  },
  {
   "cell_type": "code",
   "execution_count": 1,
   "id": "a56ecf5c-47ea-467f-aab0-dce5517cfd8c",
   "metadata": {},
   "outputs": [],
   "source": [
    "import matplotlib.pyplot as plt\n",
    "import numpy as np\n",
    "from edges_cal import modelling as mdl\n",
    "from pathlib import Path\n",
    "\n",
    "import mcmc_utils as mutl\n",
    "from edges_estimate.eor_models import AbsorptionProfile\n",
    "from edges_estimate.fitting import SemiLinearFit\n",
    "from getdist import plots\n",
    "\n",
    "import alan_data_utils as utils\n",
    "import alan_data as adata\n",
    "import glob\n",
    "import run_alan_precal_mcmc as precal\n",
    "from scipy import optimize\n",
    "import notebook_utils as nutl\n",
    "import pickle\n",
    "\n",
    "plt.ion()\n",
    "\n",
    "%load_ext autoreload\n",
    "%autoreload 2\n",
    "%matplotlib inline"
   ]
  },
  {
   "cell_type": "code",
   "execution_count": 2,
   "id": "05698fbf-fe99-48d6-987c-0f0c47fb1ac0",
   "metadata": {},
   "outputs": [],
   "source": [
    "nutl.setup_mpl()"
   ]
  },
  {
   "cell_type": "code",
   "execution_count": 3,
   "id": "b6944790-55cb-429e-b0c0-a29859d70cd7",
   "metadata": {},
   "outputs": [],
   "source": [
    "calobs16 = utils.get_calobs(smooth=16)\n",
    "calobs32 = utils.get_calobs(smooth=32)"
   ]
  },
  {
   "cell_type": "code",
   "execution_count": 5,
   "id": "e9831a98-33c4-43cb-ae27-ee14f5aeb35b",
   "metadata": {},
   "outputs": [
    {
     "name": "stdout",
     "output_type": "stream",
     "text": [
      "smooth32_tns0500_ign[()]_sim[()]_s11('short', 'open')_nscale01_ndelay01_unw-False_cnf1\n",
      "smooth32_tns0500_ign[()]_sim[()]_s11('short', 'open')_nscale01_ndelay02_unw-False_cnf1\n",
      "smooth32_tns0500_ign[()]_sim[()]_s11('short', 'open')_nscale01_ndelay03_unw-False_cnf1\n",
      "smooth32_tns0500_ign[()]_sim[()]_s11('short', 'open')_nscale01_ndelay04_unw-False_cnf1\n",
      "smooth32_tns0500_ign[()]_sim[()]_s11('short', 'open')_nscale02_ndelay01_unw-False_cnf1\n",
      "smooth32_tns0500_ign[()]_sim[()]_s11('short', 'open')_nscale02_ndelay02_unw-False_cnf1\n",
      "smooth32_tns0500_ign[()]_sim[()]_s11('short', 'open')_nscale03_ndelay01_unw-False_cnf1\n",
      "smooth32_tns0500_ign[()]_sim[()]_s11('short', 'open')_nscale03_ndelay03_unw-False_cnf1\n",
      "smooth32_tns0500_ign[()]_sim[()]_s11('short', 'open')_nscale04_ndelay01_unw-False_cnf1\n",
      "smooth32_tns0500_ign[()]_sim[()]_s11('short', 'open')_nscale04_ndelay04_unw-False_cnf1\n",
      "smooth32_tns0500_ign[()]_sim[()]_s11('short', 'open', 'ambient', 'hot_load')_nscale01_ndelay01_unw-False_cnf1\n",
      "smooth32_tns0500_ign[()]_sim[()]_s11('short', 'open', 'ambient', 'hot_load')_nscale02_ndelay02_unw-False_cnf1\n",
      "smooth32_tns0500_ign[()]_sim[()]_s11('short', 'open', 'ambient', 'hot_load')_nscale03_ndelay03_unw-False_cnf1\n",
      "smooth32_tns0500_ign[()]_sim[()]_s11('short', 'open', 'ambient', 'hot_load')_nscale04_ndelay04_unw-False_cnf1\n",
      "smooth32_tns0500_ign[()]_sim[()]_s11()_nscale01_ndelay01_unw-False_cnf1\n",
      "smooth32_tns0500_ign[()]_sim[()]_s11()_nscale01_ndelay01_unw-False_cnf100\n",
      "smooth32_tns0500_ign[()]_sim[()]_s11()_nscale01_ndelay01_unw-True_cnf1\n"
     ]
    }
   ],
   "source": [
    "names = sorted(Path('outputs/alan_precal/').glob(\"*\"))\n",
    "\n",
    "cal_lks = {}\n",
    "for name in names:\n",
    "    print(name.name)\n",
    "    cal_lks[name.name] = precal.get_likelihood_from_label(name.name)"
   ]
  },
  {
   "cell_type": "code",
   "execution_count": 6,
   "id": "bc5bc4a5-0ed9-4670-b266-41acbd4d4a39",
   "metadata": {},
   "outputs": [
    {
     "ename": "FileNotFoundError",
     "evalue": "[Errno 2] No such file or directory: \"outputs/alan_precal/smooth32_tns0500_ign[()]_sim[()]_s11('short', 'open')_nscale04_ndelay04_unw-False_cnf1/bayescal.map\"",
     "output_type": "error",
     "traceback": [
      "\u001b[0;31m---------------------------------------------------------------------------\u001b[0m",
      "\u001b[0;31mFileNotFoundError\u001b[0m                         Traceback (most recent call last)",
      "\u001b[0;32m/tmp/ipykernel_5703/2375337382.py\u001b[0m in \u001b[0;36m<module>\u001b[0;34m\u001b[0m\n\u001b[1;32m      1\u001b[0m \u001b[0mcal_lk_res\u001b[0m \u001b[0;34m=\u001b[0m \u001b[0;34m{\u001b[0m\u001b[0;34m}\u001b[0m\u001b[0;34m\u001b[0m\u001b[0;34m\u001b[0m\u001b[0m\n\u001b[1;32m      2\u001b[0m \u001b[0;32mfor\u001b[0m \u001b[0mname\u001b[0m \u001b[0;32min\u001b[0m \u001b[0mnames\u001b[0m\u001b[0;34m:\u001b[0m\u001b[0;34m\u001b[0m\u001b[0;34m\u001b[0m\u001b[0m\n\u001b[0;32m----> 3\u001b[0;31m     \u001b[0;32mwith\u001b[0m \u001b[0mopen\u001b[0m\u001b[0;34m(\u001b[0m\u001b[0mname\u001b[0m \u001b[0;34m/\u001b[0m \u001b[0;34m'bayescal.map'\u001b[0m\u001b[0;34m,\u001b[0m \u001b[0;34m'rb'\u001b[0m\u001b[0;34m)\u001b[0m \u001b[0;32mas\u001b[0m \u001b[0mfl\u001b[0m\u001b[0;34m:\u001b[0m\u001b[0;34m\u001b[0m\u001b[0;34m\u001b[0m\u001b[0m\n\u001b[0m\u001b[1;32m      4\u001b[0m         \u001b[0md\u001b[0m \u001b[0;34m=\u001b[0m \u001b[0mpickle\u001b[0m\u001b[0;34m.\u001b[0m\u001b[0mload\u001b[0m\u001b[0;34m(\u001b[0m\u001b[0mfl\u001b[0m\u001b[0;34m)\u001b[0m\u001b[0;34m\u001b[0m\u001b[0;34m\u001b[0m\u001b[0m\n\u001b[1;32m      5\u001b[0m     \u001b[0mcal_lk_res\u001b[0m\u001b[0;34m[\u001b[0m\u001b[0mname\u001b[0m\u001b[0;34m.\u001b[0m\u001b[0mname\u001b[0m\u001b[0;34m]\u001b[0m \u001b[0;34m=\u001b[0m \u001b[0md\u001b[0m\u001b[0;34m[\u001b[0m\u001b[0;34m'optres'\u001b[0m\u001b[0;34m]\u001b[0m\u001b[0;34m\u001b[0m\u001b[0;34m\u001b[0m\u001b[0m\n",
      "\u001b[0;31mFileNotFoundError\u001b[0m: [Errno 2] No such file or directory: \"outputs/alan_precal/smooth32_tns0500_ign[()]_sim[()]_s11('short', 'open')_nscale04_ndelay04_unw-False_cnf1/bayescal.map\""
     ]
    }
   ],
   "source": [
    "cal_lk_res = {}\n",
    "for name in names:\n",
    "    with open(name / 'bayescal.map', 'rb') as fl:\n",
    "        d = pickle.load(fl)\n",
    "    cal_lk_res[name.name] = d['optres']"
   ]
  },
  {
   "cell_type": "code",
   "execution_count": null,
   "id": "3d606fc7-f993-4813-a77b-45c244362da7",
   "metadata": {},
   "outputs": [],
   "source": []
  }
 ],
 "metadata": {
  "kernelspec": {
   "display_name": "edges",
   "language": "python",
   "name": "edges"
  },
  "language_info": {
   "codemirror_mode": {
    "name": "ipython",
    "version": 3
   },
   "file_extension": ".py",
   "mimetype": "text/x-python",
   "name": "python",
   "nbconvert_exporter": "python",
   "pygments_lexer": "ipython3",
   "version": "3.9.5"
  }
 },
 "nbformat": 4,
 "nbformat_minor": 5
}
