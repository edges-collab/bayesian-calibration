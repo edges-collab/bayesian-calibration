{
 "cells": [
  {
   "cell_type": "markdown",
   "id": "25674620-e99d-46bd-a4b5-410e43e2243d",
   "metadata": {},
   "source": [
    "# Alan Data"
   ]
  },
  {
   "cell_type": "markdown",
   "id": "8681266b-4454-4002-97f0-0e4f1bfdecec",
   "metadata": {},
   "source": [
    "i.e. the big one."
   ]
  },
  {
   "cell_type": "code",
   "execution_count": 1,
   "id": "00f6992b-208f-4303-bfca-954c180a5fd8",
   "metadata": {},
   "outputs": [],
   "source": [
    "import matplotlib.pyplot as plt\n",
    "import numpy as np\n",
    "from edges_cal import modelling as mdl\n",
    "from pathlib import Path\n",
    "\n",
    "import mcmc_utils as mutl\n",
    "from edges_estimate.eor_models import AbsorptionProfile\n",
    "from edges_estimate.fitting import SemiLinearFit\n",
    "from getdist import plots\n",
    "\n",
    "import alan_data_utils as utils\n",
    "import alan_data as adata\n",
    "import glob\n",
    "import run_alan_data_mcmc as mcmc\n",
    "from scipy import optimize\n",
    "import notebook_utils as nutl\n",
    "import pickle\n",
    "from multiprocessing import Pool\n",
    "from astropy import units as u\n",
    "from edges_cal.modelling import LinLog\n",
    "plt.ion()\n",
    "\n",
    "%load_ext autoreload\n",
    "%autoreload 2\n",
    "%matplotlib inline"
   ]
  },
  {
   "cell_type": "code",
   "execution_count": 2,
   "id": "f756cf72-efc7-41fc-9a89-18ff3b1f54cf",
   "metadata": {},
   "outputs": [
    {
     "name": "stdout",
     "output_type": "stream",
     "text": [
      "S11 SYSTEMATICS:  {}\n",
      "6 6 6\n",
      "('short', 'open')\n"
     ]
    }
   ],
   "source": [
    "lk0 = mcmc.get_likelihood(\n",
    "    nterms_fg=5, \n",
    "    fix_tau=False, \n",
    "    simultaneous=True, \n",
    "    cterms=6, \n",
    "    wterms=5, \n",
    "    smooth=32, \n",
    "    tns_width=500, \n",
    "    fit_cterms=6,\n",
    "    fit_wterms=5, \n",
    "    nscale=0, \n",
    "    ndelay=0, \n",
    "    est_tns=np.zeros(6), \n",
    "    ignore_sources=(), \n",
    "    as_sim=('short', 'open'), \n",
    "    s11_sys=(), \n",
    "    antsim=False, \n",
    "    sim_sky=False, \n",
    "    add_noise=True\n",
    ")"
   ]
  },
  {
   "cell_type": "code",
   "execution_count": 3,
   "id": "9e8dc571-cd99-4a50-8041-c697bf17e3ca",
   "metadata": {},
   "outputs": [
    {
     "name": "stdout",
     "output_type": "stream",
     "text": [
      "S11 SYSTEMATICS:  {}\n",
      "6 6 6\n",
      "('short', 'open')\n"
     ]
    }
   ],
   "source": [
    "lk1 = mcmc.get_likelihood(\n",
    "    nterms_fg=5, \n",
    "    fix_tau=False, \n",
    "    simultaneous=True, \n",
    "    cterms=6, \n",
    "    wterms=5, \n",
    "    smooth=32, \n",
    "    tns_width=500, \n",
    "    fit_cterms=6,\n",
    "    fit_wterms=5, \n",
    "    nscale=1, \n",
    "    ndelay=1, \n",
    "    est_tns=np.zeros(6), \n",
    "    ignore_sources=(), \n",
    "    as_sim=('short', 'open'), \n",
    "    s11_sys=(), \n",
    "    antsim=False, \n",
    "    sim_sky=False, \n",
    "    add_noise=True\n",
    ")"
   ]
  },
  {
   "cell_type": "code",
   "execution_count": 4,
   "id": "1b0ce736-9e70-41aa-be37-92c2dfa14a9c",
   "metadata": {},
   "outputs": [
    {
     "data": {
      "text/plain": [
       "(2721.463904671679,\n",
       " [(183.80910854113037,\n",
       "   -2.935722563058962,\n",
       "   1.4028655316834,\n",
       "   -0.4575999425184004,\n",
       "   0.11846589621226686),\n",
       "  (-9.406529304719141,\n",
       "   -3.7014626835034283,\n",
       "   -7.438628190559872,\n",
       "   4.522425964867686,\n",
       "   -2.58074125066428),\n",
       "  (10.650995672025465,\n",
       "   8.740772769222461,\n",
       "   -3.6588533640418874,\n",
       "   -1.5498672569311696,\n",
       "   0.7847466874554903),\n",
       "  (301.5317196211456,\n",
       "   -0.005616770336702949,\n",
       "   0.17171485790407462,\n",
       "   -0.11449721834690772,\n",
       "   -0.19037371176026185,\n",
       "   0.11263375790963598),\n",
       "  (1748.0300725535535,\n",
       "   -121.00733305038814,\n",
       "   -66.7031572695831,\n",
       "   49.98127417529596,\n",
       "   158.47930685923586),\n",
       "  array([[ 1.83805090e+02, -2.93241230e+00,  1.42431027e+00,\n",
       "          -4.71096910e-01,  9.47763028e-02, -9.40949228e+00,\n",
       "          -3.70144731e+00, -7.42125864e+00,  4.52199088e+00,\n",
       "          -2.59483994e+00,  1.06546197e+01,  8.74039849e+00,\n",
       "          -3.66795164e+00, -1.54916906e+00,  7.92585149e-01,\n",
       "           3.01528692e+02,  5.22240938e-04,  1.89596931e-01,\n",
       "          -1.23227397e-01, -2.08334018e-01,  1.04152271e-01,\n",
       "           1.74802369e+03, -1.20983630e+02, -6.62930751e+01,\n",
       "           4.95575640e+01,  1.54778735e+02]])])"
      ]
     },
     "execution_count": 4,
     "metadata": {},
     "output_type": "execute_result"
    }
   ],
   "source": [
    "lk0.partial_linear_model()"
   ]
  },
  {
   "cell_type": "code",
   "execution_count": 5,
   "id": "4a104b50-6e86-40a8-af7a-10ed256f6c9c",
   "metadata": {},
   "outputs": [
    {
     "data": {
      "text/plain": [
       "(2721.463904671679,\n",
       " [(183.80910854113037,\n",
       "   -2.935722563058962,\n",
       "   1.4028655316834,\n",
       "   -0.4575999425184004,\n",
       "   0.11846589621226686),\n",
       "  (-9.406529304719141,\n",
       "   -3.7014626835034283,\n",
       "   -7.438628190559872,\n",
       "   4.522425964867686,\n",
       "   -2.58074125066428),\n",
       "  (10.650995672025465,\n",
       "   8.740772769222461,\n",
       "   -3.6588533640418874,\n",
       "   -1.5498672569311696,\n",
       "   0.7847466874554903),\n",
       "  (301.5317196211456,\n",
       "   -0.005616770336702949,\n",
       "   0.17171485790407462,\n",
       "   -0.11449721834690772,\n",
       "   -0.19037371176026185,\n",
       "   0.11263375790963598),\n",
       "  (1748.0300725535535,\n",
       "   -121.00733305038814,\n",
       "   -66.7031572695831,\n",
       "   49.98127417529596,\n",
       "   158.47930685923586),\n",
       "  array([[ 1.83809894e+02, -2.92241013e+00,  1.36969529e+00,\n",
       "          -4.81762491e-01,  1.70216093e-01, -9.40385304e+00,\n",
       "          -3.69745771e+00, -7.45081713e+00,  4.50981203e+00,\n",
       "          -2.56794130e+00,  1.06540258e+01,  8.73679288e+00,\n",
       "          -3.67764547e+00, -1.54316090e+00,  8.05840466e-01,\n",
       "           3.01531142e+02,  5.64266165e-03,  1.46156372e-01,\n",
       "          -1.30408954e-01, -1.49572415e-01,  1.08904012e-01,\n",
       "           1.74802874e+03, -1.20996840e+02, -6.68003836e+01,\n",
       "           5.00094158e+01,  1.59880204e+02]])])"
      ]
     },
     "execution_count": 5,
     "metadata": {},
     "output_type": "execute_result"
    }
   ],
   "source": [
    "lk1.partial_linear_model()"
   ]
  },
  {
   "cell_type": "code",
   "execution_count": 6,
   "id": "6c410a7e-4a13-4d54-96f6-fdd102569c9a",
   "metadata": {},
   "outputs": [
    {
     "data": {
      "text/plain": [
       "dict_keys(['q', 'T', 'k0', 'data_variance', 'loss', 'bm_corr', 'loss_temp', 'gamma_src', 'gamma_rcv', 'raw_basis'])"
      ]
     },
     "execution_count": 6,
     "metadata": {},
     "output_type": "execute_result"
    }
   ],
   "source": [
    "lk0.data.keys()"
   ]
  },
  {
   "cell_type": "code",
   "execution_count": 18,
   "id": "8ac94b67-5b37-4c64-bad6-a879701c0608",
   "metadata": {},
   "outputs": [
    {
     "name": "stdout",
     "output_type": "stream",
     "text": [
      "q open\n",
      "q short\n"
     ]
    }
   ],
   "source": [
    "for k in lk0.data:\n",
    "    v0 = lk0.data[k]\n",
    "    v1 = lk1.data[k]\n",
    "    \n",
    "    if isinstance(v0, dict):\n",
    "        for kk in v0:\n",
    "            vv0 = v0[kk]\n",
    "            vv1 = v1[kk]\n",
    "            \n",
    "            if not np.all(vv0==vv1):\n",
    "                print(k, kk)\n",
    "    else:\n",
    "        if not np.all(v0==v1):\n",
    "            print(k, kk)"
   ]
  },
  {
   "cell_type": "code",
   "execution_count": 16,
   "id": "2df9b054-f503-4ff9-86eb-81aeb8d9353d",
   "metadata": {},
   "outputs": [
    {
     "data": {
      "text/plain": [
       "array([0., 0., 0., 0., 0., 0., 0., 0., 0., 0., 0., 0., 0., 0., 0., 0., 0.,\n",
       "       0., 0., 0., 0., 0., 0., 0., 0., 0., 0., 0., 0., 0., 0., 0., 0., 0.,\n",
       "       0., 0., 0., 0., 0., 0., 0., 0., 0., 0., 0., 0., 0., 0., 0., 0., 0.,\n",
       "       0., 0., 0., 0., 0., 0., 0., 0., 0., 0., 0., 0., 0., 0., 0., 0., 0.,\n",
       "       0., 0., 0., 0., 0., 0., 0., 0., 0., 0., 0., 0., 0., 0., 0., 0., 0.,\n",
       "       0., 0., 0., 0., 0., 0., 0., 0., 0., 0., 0., 0., 0., 0., 0., 0., 0.,\n",
       "       0., 0., 0., 0., 0., 0., 0., 0., 0., 0., 0., 0., 0., 0., 0., 0.])"
      ]
     },
     "execution_count": 16,
     "metadata": {},
     "output_type": "execute_result"
    }
   ],
   "source": [
    "lk0.data['data_variance']['ant'] - lk1.data['data_variance']['ant']"
   ]
  },
  {
   "cell_type": "code",
   "execution_count": null,
   "id": "b1c5c599-8ec1-43fc-9a8b-7946f9d4a36b",
   "metadata": {},
   "outputs": [],
   "source": []
  }
 ],
 "metadata": {
  "kernelspec": {
   "display_name": "edges",
   "language": "python",
   "name": "edges"
  },
  "language_info": {
   "codemirror_mode": {
    "name": "ipython",
    "version": 3
   },
   "file_extension": ".py",
   "mimetype": "text/x-python",
   "name": "python",
   "nbconvert_exporter": "python",
   "pygments_lexer": "ipython3",
   "version": "3.9.5"
  }
 },
 "nbformat": 4,
 "nbformat_minor": 5
}
